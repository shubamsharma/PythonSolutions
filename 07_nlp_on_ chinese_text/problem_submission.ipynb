{
 "cells": [
  {
   "cell_type": "code",
   "execution_count": 2,
   "metadata": {},
   "outputs": [],
   "source": [
    "import pandas as pd\n",
    "import numpy as np\n",
    "import string\n",
    "\n",
    "# fix random seed for reproducibility\n",
    "seed = 42\n",
    "np.random.seed(seed)"
   ]
  },
  {
   "cell_type": "code",
   "execution_count": 3,
   "metadata": {},
   "outputs": [
    {
     "data": {
      "text/plain": [
       "'\\ufeff                       日本 去年 海外 资产 和 负债额 均 创 历史纪录新华社 东京 ５ 月 ２ ５ 日电 日本 内阁 今天 发表 的 一份 报告书 表明 ， 去年 日本 海外 资产额 和 外债 额均 创 历史 最高 纪录 。去年 日本 海外 资产额 已达 １ · ７ ７ １ 万亿美元 ， 比 １９ ８ ８ 年 增加 百分之二十点 五 。 海外 资产 中 增加 最快 的 是民间 部门 的 直接 投资 。 在 制造业 方面 ， 日本 由于 大量 购买外国 的 不动产 和 在外 办厂 等 ， 资产额 比 １ ９ ８ ８ 年 增加 百分 之 三十九点 三 ， 达 １ ５ ４ ３ 亿美元 。去年 日本 对外 负债额 为 １ · ４ ７ ７ ７ 万亿美元 ， 比上年 增加 百分之二十五 点五 。因而 ， 日本 去年 海外 纯 资产额 为 ２ ９ ３ ２ · １ ５ 亿美元 ， 连续 ５ 年 居 世界 首位 。 但是 ， 由于 外债 增加 ， 比 上年增长速度 仅为 百分之零点 五 。 而 １ ９ ８ ８ 年 比 １ ９ ８ ７ 年的 增长率 达 百分之二 十一点二 。 （ 完 ）'"
      ]
     },
     "execution_count": 3,
     "metadata": {},
     "output_type": "execute_result"
    }
   ],
   "source": [
    "dataset = pd.read_csv(r'train_data.csv')\n",
    "dataset['text'].values[1]"
   ]
  },
  {
   "cell_type": "code",
   "execution_count": 4,
   "metadata": {},
   "outputs": [],
   "source": [
    "# build train and test datasets\n",
    "text_text = dataset['text'].values\n",
    "category = dataset['category'].values\n",
    "\n",
    "train_text = text_text[:2000]\n",
    "train_category = category[:2000]\n",
    "\n",
    "test_text = text_text[2000:]\n",
    "test_category = category[2000:]"
   ]
  },
  {
   "cell_type": "code",
   "execution_count": 5,
   "metadata": {},
   "outputs": [],
   "source": [
    "import contractions\n",
    "from bs4 import BeautifulSoup\n",
    "import unicodedata\n",
    "import re\n",
    "import tqdm\n",
    "import numpy as np\n",
    "from stop_words import get_stop_words\n",
    "\n",
    "import contractions\n",
    "from bs4 import BeautifulSoup\n",
    "import numpy as np\n",
    "import re\n",
    "import tqdm\n",
    "import unicodedata\n",
    "import gensim"
   ]
  },
  {
   "cell_type": "code",
   "execution_count": 6,
   "metadata": {},
   "outputs": [],
   "source": [
    "def stripHTMLtags(text) : \n",
    "    soup  = BeautifulSoup(text,\"html.parser\")\n",
    "    stripped_text = soup.get_text()\n",
    "    stripped_text = re.sub(r'[\\r|\\n\\|\\r\\n]+','\\n',stripped_text)\n",
    "    return stripped_text\n",
    "\n",
    "def strip_email(text):\n",
    "    text = re.sub(\"[a-zA-Z0-9_.+-]+@[a-zA-Z0-9-]+\\.[a-zA-Z0-9-.]+\",\"\",text)\n",
    "    return text\n",
    "        \n",
    "def strip_digits(text):\n",
    "    text = \" \".join(word for word in text.split() if not any(character.isdigit() for character in word))\n",
    "    return text\n",
    "\n",
    "def strip_html_tags(text):\n",
    "  soup = BeautifulSoup(text, \"html.parser\")\n",
    "  [s.extract() for s in soup(['iframe', 'script'])]\n",
    "  stripped_text = soup.get_text()\n",
    "  stripped_text = re.sub(r'[\\r|\\n|\\r\\n]+', '\\n', stripped_text)\n",
    "  return stripped_text\n",
    "\n",
    "def remove_accented_chars(text):\n",
    "  text = unicodedata.normalize('NFKD', text).encode('ascii', 'ignore').decode('utf-8', 'ignore')\n",
    "  return text\n",
    "\n",
    "def strip_common_words(text,stemming = False) :\n",
    "    stop_words = get_stop_words(\"en\")\n",
    "    if stemming :\n",
    "        text = [word for word in text.split() if word not in stem(stop_words)]\n",
    "    else :\n",
    "        text = [word for word in text.split() if word not in stop_words]\n",
    "    return text\n",
    "\n",
    "def getChinese(context):\n",
    "    filterate = re.compile(u'[^u4E00-\\u9FFF ]')\n",
    "    context = filterate.sub(r'',context)\n",
    "    return context\n",
    "\n"
   ]
  },
  {
   "cell_type": "code",
   "execution_count": 12,
   "metadata": {},
   "outputs": [],
   "source": [
    "from zhon.hanzi import punctuation\n",
    "from zhon.hanzi import non_stops\n",
    "from zhon.hanzi import stops\n",
    "import advertools as adv\n",
    "stop_words = sorted(adv.stopwords['chinese'])\n",
    "\n",
    "def pre_process_corpus(docs, stemming = False, rm_common = False):\n",
    "  norm_docs = []\n",
    "  for doc in tqdm.tqdm(docs):\n",
    "    doc = doc.translate(doc.maketrans(\"\\n\\t\\r\", \"   \"))\n",
    "    for symbol in string.punctuation:\n",
    "        doc = doc.replace(symbol,\" \")\n",
    "    doc = strip_digits(doc)\n",
    "    #lower case and remove special characters\\whitespaces\n",
    "    doc = re.sub(' +', ' ', doc)\n",
    "    doc = doc.strip()  \n",
    "    doc = re.sub('[a-zA-Z]', '', doc) \n",
    "    doc = getChinese(doc)\n",
    "    doc = re.sub(r\"[%s]+\" %punctuation,\"\",doc)\n",
    "    doc = re.sub(r\"[%s]+\" %non_stops,\"\",doc)\n",
    "    doc = re.sub(r\"[%s]+\" %stops,\"\",doc)\n",
    "    text = gensim.utils.to_unicode(doc).split()\n",
    "    text = [word.lower() if not word.isupper() else word for word in text]\n",
    "    text = [t for t in text if t not in stop_words]\n",
    "    \"\"\"\n",
    "    if stemming :\n",
    "        text = [stem(word) for word in text]\n",
    "        \n",
    "    if rm_common :\n",
    "        text = strip_common_words(text)\n",
    "    \"\"\"\n",
    "    norm_docs.append(\" \".join(text))\n",
    "  \n",
    "  return norm_docs"
   ]
  },
  {
   "cell_type": "code",
   "execution_count": 13,
   "metadata": {},
   "outputs": [
    {
     "name": "stderr",
     "output_type": "stream",
     "text": [
      "100%|██████████| 2000/2000 [00:53<00:00, 37.37it/s]\n",
      "100%|██████████| 500/500 [00:13<00:00, 36.81it/s]\n"
     ]
    }
   ],
   "source": [
    "norm_train_text = pre_process_corpus(train_text)\n",
    "norm_test_text = pre_process_corpus(test_text)"
   ]
  },
  {
   "cell_type": "code",
   "execution_count": 14,
   "metadata": {},
   "outputs": [
    {
     "data": {
      "text/plain": [
       "'日本 去年 海外 资产 负债额 创 历史纪录新华社 东京 月 日电 日本 内阁 发表 一份 报告书 去年 日本 海外 资产额 外债 额均 创 历史 纪录 去年 日本 海外 资产额 已达 万亿美元 年 增加 百分之二十点 海外 资产 中 增加 最快 是民间 部门 投资 制造业 日本 购买外国 不动产 在外 办厂 资产额 年 增加 百分 三十九点 达 亿美元 去年 日本 对外 负债额 万亿美元 比上年 增加 百分之二十五 点五 日本 去年 海外 资产额 亿美元 连续 年 居 世界 首位 外债 增加 上年增长速度 仅为 百分之零点 年 年的 增长率 达 百分之二 十一点二 完'"
      ]
     },
     "execution_count": 14,
     "metadata": {},
     "output_type": "execute_result"
    }
   ],
   "source": [
    "norm_train_text[1]"
   ]
  },
  {
   "cell_type": "code",
   "execution_count": 16,
   "metadata": {},
   "outputs": [
    {
     "data": {
      "text/plain": [
       "'\\ufeff                       日本 去年 海外 资产 和 负债额 均 创 历史纪录新华社 东京 ５ 月 ２ ５ 日电 日本 内阁 今天 发表 的 一份 报告书 表明 ， 去年 日本 海外 资产额 和 外债 额均 创 历史 最高 纪录 。去年 日本 海外 资产额 已达 １ · ７ ７ １ 万亿美元 ， 比 １９ ８ ８ 年 增加 百分之二十点 五 。 海外 资产 中 增加 最快 的 是民间 部门 的 直接 投资 。 在 制造业 方面 ， 日本 由于 大量 购买外国 的 不动产 和 在外 办厂 等 ， 资产额 比 １ ９ ８ ８ 年 增加 百分 之 三十九点 三 ， 达 １ ５ ４ ３ 亿美元 。去年 日本 对外 负债额 为 １ · ４ ７ ７ ７ 万亿美元 ， 比上年 增加 百分之二十五 点五 。因而 ， 日本 去年 海外 纯 资产额 为 ２ ９ ３ ２ · １ ５ 亿美元 ， 连续 ５ 年 居 世界 首位 。 但是 ， 由于 外债 增加 ， 比 上年增长速度 仅为 百分之零点 五 。 而 １ ９ ８ ８ 年 比 １ ９ ８ ７ 年的 增长率 达 百分之二 十一点二 。 （ 完 ）'"
      ]
     },
     "execution_count": 16,
     "metadata": {},
     "output_type": "execute_result"
    }
   ],
   "source": [
    "train_text[1]"
   ]
  },
  {
   "cell_type": "code",
   "execution_count": 17,
   "metadata": {},
   "outputs": [],
   "source": [
    "import tensorflow as tf\n",
    "\n",
    "t = tf.keras.preprocessing.text.Tokenizer()\n",
    "# fit the tokenizer on the documents\n",
    "t.fit_on_texts(norm_train_text)\n",
    "t.word_index['<PAD>'] = 0"
   ]
  },
  {
   "cell_type": "code",
   "execution_count": 18,
   "metadata": {},
   "outputs": [],
   "source": [
    "train_sequences = t.texts_to_sequences(norm_train_text)\n",
    "test_sequences = t.texts_to_sequences(norm_test_text)\n"
   ]
  },
  {
   "cell_type": "code",
   "execution_count": 19,
   "metadata": {},
   "outputs": [
    {
     "name": "stdout",
     "output_type": "stream",
     "text": [
      "Vocabulary size=75359\n",
      "Number of Documents=2000\n"
     ]
    }
   ],
   "source": [
    "print(\"Vocabulary size={}\".format(len(t.word_index)))\n",
    "print(\"Number of Documents={}\".format(t.document_count))"
   ]
  },
  {
   "cell_type": "code",
   "execution_count": 20,
   "metadata": {},
   "outputs": [],
   "source": [
    "MAX_SEQUENCE_LENGTH = 500"
   ]
  },
  {
   "cell_type": "code",
   "execution_count": 21,
   "metadata": {},
   "outputs": [
    {
     "data": {
      "text/plain": [
       "((2000, 500), (500, 500))"
      ]
     },
     "execution_count": 21,
     "metadata": {},
     "output_type": "execute_result"
    }
   ],
   "source": [
    "# pad dataset to a maximum review length in words\n",
    "X_train = tf.keras.preprocessing.sequence.pad_sequences(train_sequences, maxlen=MAX_SEQUENCE_LENGTH)\n",
    "X_test = tf.keras.preprocessing.sequence.pad_sequences(test_sequences, maxlen=MAX_SEQUENCE_LENGTH)\n",
    "X_train.shape, X_test.shape"
   ]
  },
  {
   "cell_type": "code",
   "execution_count": 22,
   "metadata": {},
   "outputs": [],
   "source": [
    "from sklearn.preprocessing import LabelEncoder\n",
    "\n",
    "le = LabelEncoder()\n",
    "num_classes=10\n",
    "y_train = le.fit_transform(train_category)\n",
    "y_test = le.transform(test_category)"
   ]
  },
  {
   "cell_type": "code",
   "execution_count": 23,
   "metadata": {},
   "outputs": [],
   "source": [
    "nb_classes = 10\n",
    "y_train = np.eye(nb_classes)[y_train]\n",
    "y_test = np.eye(nb_classes)[y_test]"
   ]
  },
  {
   "cell_type": "code",
   "execution_count": 24,
   "metadata": {},
   "outputs": [
    {
     "data": {
      "text/plain": [
       "'\\nprint(tf.__version__)\\nfrom sklearn.preprocessing import MultiLabelBinarizer\\nmultilabel_binarizer = MultiLabelBinarizer()\\nmultilabel_binarizer.fit_transform(y_train)\\ny = multilabel_binarizer.classes_\\ny\\n'"
      ]
     },
     "execution_count": 24,
     "metadata": {},
     "output_type": "execute_result"
    }
   ],
   "source": [
    "\"\"\"\n",
    "print(tf.__version__)\n",
    "from sklearn.preprocessing import MultiLabelBinarizer\n",
    "multilabel_binarizer = MultiLabelBinarizer()\n",
    "multilabel_binarizer.fit_transform(y_train)\n",
    "y = multilabel_binarizer.classes_\n",
    "y\n",
    "\"\"\""
   ]
  },
  {
   "cell_type": "code",
   "execution_count": 25,
   "metadata": {},
   "outputs": [
    {
     "data": {
      "text/plain": [
       "'from sklearn.preprocessing import MultiLabelBinarizer\\ny_train = np_utils.to_categorical(y_train)\\ny_test = np_utils.to_categorical(y_test)\\n'"
      ]
     },
     "execution_count": 25,
     "metadata": {},
     "output_type": "execute_result"
    }
   ],
   "source": [
    "\"\"\"from sklearn.preprocessing import MultiLabelBinarizer\n",
    "y_train = np_utils.to_categorical(y_train)\n",
    "y_test = np_utils.to_categorical(y_test)\n",
    "\"\"\""
   ]
  },
  {
   "cell_type": "code",
   "execution_count": 26,
   "metadata": {},
   "outputs": [],
   "source": [
    "VOCAB_SIZE = len(t.word_index)"
   ]
  },
  {
   "cell_type": "code",
   "execution_count": 28,
   "metadata": {},
   "outputs": [
    {
     "name": "stdout",
     "output_type": "stream",
     "text": [
      "Model: \"sequential_1\"\n",
      "_________________________________________________________________\n",
      "Layer (type)                 Output Shape              Param #   \n",
      "=================================================================\n",
      "embedding_1 (Embedding)      (None, 500, 300)          22607700  \n",
      "_________________________________________________________________\n",
      "conv1d_1 (Conv1D)            (None, 500, 128)          115328    \n",
      "_________________________________________________________________\n",
      "max_pooling1d_1 (MaxPooling1 (None, 250, 128)          0         \n",
      "_________________________________________________________________\n",
      "lstm_1 (LSTM)                (None, 20)                11920     \n",
      "_________________________________________________________________\n",
      "dense_1 (Dense)              (None, 10)                210       \n",
      "=================================================================\n",
      "Total params: 22,735,158\n",
      "Trainable params: 22,735,158\n",
      "Non-trainable params: 0\n",
      "_________________________________________________________________\n",
      "None\n"
     ]
    }
   ],
   "source": [
    "EMBEDDING_DIM = 300 # dimension for dense embeddings for each token\n",
    "LSTM_DIM = 128 # total LSTM units\n",
    "\n",
    "model = tf.keras.models.Sequential()\n",
    "model.add(tf.keras.layers.Embedding(input_dim=VOCAB_SIZE, output_dim=EMBEDDING_DIM, input_length=MAX_SEQUENCE_LENGTH))\n",
    "model.add(tf.keras.layers.Conv1D(filters=128, kernel_size=3, padding='same', activation='relu'))\n",
    "model.add(tf.keras.layers.MaxPooling1D(pool_size = 2))\n",
    "model.add(tf.keras.layers.LSTM(units = 20, dropout = 0.5, recurrent_dropout = 0.5))\n",
    "model.add(tf.keras.layers.Dense(units = 10, activation = \"softmax\"))\n",
    "model.compile(loss = \"categorical_crossentropy\", optimizer = \"adam\", metrics = [\"categorical_accuracy\"])\n",
    "print(model.summary())"
   ]
  },
  {
   "cell_type": "code",
   "execution_count": 29,
   "metadata": {},
   "outputs": [
    {
     "name": "stdout",
     "output_type": "stream",
     "text": [
      "Epoch 1/10\n",
      "15/15 [==============================] - 64s 4s/step - loss: 2.2421 - categorical_accuracy: 0.1983 - val_loss: 2.1667 - val_categorical_accuracy: 0.2100\n",
      "Epoch 2/10\n",
      "15/15 [==============================] - 64s 4s/step - loss: 2.0219 - categorical_accuracy: 0.2450 - val_loss: 1.9273 - val_categorical_accuracy: 0.2950\n",
      "Epoch 3/10\n",
      "15/15 [==============================] - 64s 4s/step - loss: 1.5888 - categorical_accuracy: 0.4844 - val_loss: 1.5217 - val_categorical_accuracy: 0.4500\n",
      "Epoch 4/10\n",
      "15/15 [==============================] - 64s 4s/step - loss: 1.0229 - categorical_accuracy: 0.7656 - val_loss: 1.1678 - val_categorical_accuracy: 0.7000\n",
      "Epoch 5/10\n",
      "15/15 [==============================] - 67s 4s/step - loss: 0.5520 - categorical_accuracy: 0.9483 - val_loss: 0.9451 - val_categorical_accuracy: 0.7600\n",
      "Epoch 6/10\n",
      "15/15 [==============================] - 71s 5s/step - loss: 0.3189 - categorical_accuracy: 0.9867 - val_loss: 0.8433 - val_categorical_accuracy: 0.7700\n",
      "Epoch 7/10\n",
      "15/15 [==============================] - 65s 4s/step - loss: 0.2105 - categorical_accuracy: 0.9967 - val_loss: 0.7573 - val_categorical_accuracy: 0.8250\n",
      "Epoch 8/10\n",
      "15/15 [==============================] - 64s 4s/step - loss: 0.1473 - categorical_accuracy: 0.9989 - val_loss: 0.6967 - val_categorical_accuracy: 0.8350\n",
      "Epoch 9/10\n",
      "15/15 [==============================] - 65s 4s/step - loss: 0.1138 - categorical_accuracy: 0.9983 - val_loss: 0.6908 - val_categorical_accuracy: 0.8400\n",
      "Epoch 10/10\n",
      "15/15 [==============================] - 66s 4s/step - loss: 0.0916 - categorical_accuracy: 0.9989 - val_loss: 0.6359 - val_categorical_accuracy: 0.8450\n"
     ]
    },
    {
     "data": {
      "text/plain": [
       "<tensorflow.python.keras.callbacks.History at 0x15644f98>"
      ]
     },
     "execution_count": 29,
     "metadata": {},
     "output_type": "execute_result"
    }
   ],
   "source": [
    "EPOCHS=10\n",
    "BATCH_SIZE=128\n",
    "\n",
    "# callbacks\n",
    "es = tf.keras.callbacks.EarlyStopping(monitor='val_loss', \n",
    "                                      patience=2,\n",
    "                                      verbose=1)\n",
    "\n",
    "# Fit the model\n",
    "model.fit(X_train, y_train, \n",
    "          validation_split=0.1,\n",
    "          epochs=EPOCHS, \n",
    "          batch_size=BATCH_SIZE,\n",
    "          callbacks=[es], \n",
    "          verbose=1)"
   ]
  },
  {
   "cell_type": "code",
   "execution_count": null,
   "metadata": {},
   "outputs": [],
   "source": [
    "scores = model.evaluate(X_test, y_test, verbose=1)\n",
    "print(\"Accuracy: %.2f%%\" % (scores[1]*100))"
   ]
  }
 ],
 "metadata": {
  "kernelspec": {
   "display_name": "Python 3",
   "language": "python",
   "name": "python3"
  },
  "language_info": {
   "codemirror_mode": {
    "name": "ipython",
    "version": 3
   },
   "file_extension": ".py",
   "mimetype": "text/x-python",
   "name": "python",
   "nbconvert_exporter": "python",
   "pygments_lexer": "ipython3",
   "version": "3.6.5"
  }
 },
 "nbformat": 4,
 "nbformat_minor": 4
}
